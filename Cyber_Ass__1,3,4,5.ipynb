{
  "nbformat": 4,
  "nbformat_minor": 0,
  "metadata": {
    "colab": {
      "provenance": []
    },
    "kernelspec": {
      "name": "python3",
      "display_name": "Python 3"
    },
    "language_info": {
      "name": "python"
    }
  },
  "cells": [
    {
      "cell_type": "markdown",
      "source": [
        "## **Cyber 1 - nMap**"
      ],
      "metadata": {
        "id": "CsPn0rXZYLse"
      }
    },
    {
      "cell_type": "code",
      "execution_count": 8,
      "metadata": {
        "colab": {
          "base_uri": "https://localhost:8080/",
          "height": 106
        },
        "collapsed": true,
        "id": "rerbHRWoYKWr",
        "outputId": "04178a5c-e4f7-400c-aff7-fbe96fe9bf4e"
      },
      "outputs": [
        {
          "output_type": "error",
          "ename": "SyntaxError",
          "evalue": "invalid syntax (<ipython-input-8-c742c5e0ca90>, line 3)",
          "traceback": [
            "\u001b[0;36m  File \u001b[0;32m\"<ipython-input-8-c742c5e0ca90>\"\u001b[0;36m, line \u001b[0;32m3\u001b[0m\n\u001b[0;31m    sudo apt-get install nmap\u001b[0m\n\u001b[0m         ^\u001b[0m\n\u001b[0;31mSyntaxError\u001b[0m\u001b[0;31m:\u001b[0m invalid syntax\n"
          ]
        }
      ],
      "source": [
        "# LINUX\n",
        "\n",
        "sudo apt-get install nmap\n",
        "\n",
        "# 1. To scan a System with Hostname and IP address. First, Scan using Hostname\n",
        "\n",
        "nmap www.geeksforgeeks.org\n",
        "\n",
        "# Now let’s Scan using IP Address\n",
        "\n",
        "nmap 172.217.27.174\n",
        "\n",
        "# --------------------------------------------------\n",
        "\n",
        "# 2. To scan using “-v” option.\n",
        "\n",
        "nmap -v www.geeksforgeeks.org\n",
        "\n",
        "-----------------------------------------------------\n",
        "\n",
        "# 3. To scan multiple hosts\n",
        "\n",
        "nmap 103.76.228.244 157.240.198.35 172.217.27.174\n",
        "\n",
        "-----------------------------------------------------\n",
        "\n",
        "# 4. To scan whole subnet\n",
        "\n",
        "nmap 103.76.228.*\n",
        "\n",
        "\n",
        "-----------------------------------------------------\n",
        "\n",
        "# 5. To scan specific range of IP address\n",
        "\n",
        "nmap 192.168.29.1-20\n",
        "\n",
        "\n",
        "-----------------------------------------------------\n",
        "\n",
        "# 6. To scan to detect firewall settings.\n",
        "\n",
        "sudo nmap -sA 103.76.228.244\n",
        "\n",
        "\n",
        "----------------------------------------------------\n",
        "\n",
        "# 7. To identify Hostnames\n",
        "\n",
        "sudo nmap -sL  103.76.228.244\n",
        "\n",
        "\n",
        "----------------------------------------------------\n",
        "\n",
        "# 10.  Here -sS flag is used for TCP SYN Scan, Which is a stealthy and efficient method of scanning for open ports on a target system.\n",
        "\n",
        "nmap -sS <Domain Name>\n",
        "nmap -sS www.geeksforgeeks.org\n",
        "\n",
        "----------------------------------------------------\n",
        "\n"
      ]
    },
    {
      "cell_type": "markdown",
      "source": [
        "# **Cyber 3 - AES**"
      ],
      "metadata": {
        "id": "FRsbmb0PYZ3D"
      }
    },
    {
      "cell_type": "code",
      "source": [
        "!pip install cryptography\n",
        "\n",
        "from cryptography.fernet import Fernet\n",
        "\n",
        "# Generate a key\n",
        "def generate_key():\n",
        "    return Fernet.generate_key()\n",
        "\n",
        "# Encrypt message\n",
        "def encrypt_message(key, message):\n",
        "    fernet = Fernet(key)\n",
        "    encrypted = fernet.encrypt(message.encode())\n",
        "    return encrypted\n",
        "\n",
        "# Decrypt message\n",
        "def decrypt_message(key, encrypted_message):\n",
        "    fernet = Fernet(key)\n",
        "    decrypted = fernet.decrypt(encrypted_message).decode()\n",
        "    return decrypted\n",
        "\n",
        "# Demo\n",
        "key = generate_key()\n",
        "print(\"Generated Key:\", key)\n",
        "\n",
        "message = \"This is a secret message.\"\n",
        "encrypted = encrypt_message(key, message)\n",
        "print(\"Encrypted:\", encrypted)\n",
        "\n",
        "decrypted = decrypt_message(key, encrypted)\n",
        "print(\"Decrypted:\", decrypted)\n",
        "\n"
      ],
      "metadata": {
        "colab": {
          "base_uri": "https://localhost:8080/"
        },
        "id": "BAsXHAcHYe1B",
        "outputId": "fb78e85d-42ab-49bb-f8c3-e1b3a63c72eb"
      },
      "execution_count": 2,
      "outputs": [
        {
          "output_type": "stream",
          "name": "stdout",
          "text": [
            "Requirement already satisfied: cryptography in /usr/local/lib/python3.11/dist-packages (43.0.3)\n",
            "Requirement already satisfied: cffi>=1.12 in /usr/local/lib/python3.11/dist-packages (from cryptography) (1.17.1)\n",
            "Requirement already satisfied: pycparser in /usr/local/lib/python3.11/dist-packages (from cffi>=1.12->cryptography) (2.22)\n",
            "Generated Key: b'PxV2lEegxthqYyGRH4U2YcpBgqVNnfujc1xYeE_4WqA='\n",
            "Encrypted: b'gAAAAABoI212Wh6HV85yt3SnQdlsy9vrpje5ILeD8Xslu-_3II6vsnJ85zmuiFky2W14uuHrIlkxPJZvJ3x05IXOhWKkVAcAg0U10h16Q5YCtV8UCqVtGEQ='\n",
            "Decrypted: This is a secret message.\n"
          ]
        }
      ]
    },
    {
      "cell_type": "markdown",
      "source": [
        "# **Cyber 4 - RSA**"
      ],
      "metadata": {
        "id": "KV7vPJ-cYhHF"
      }
    },
    {
      "cell_type": "code",
      "source": [
        "!pip install cryptography\n",
        "\n",
        "from cryptography.hazmat.primitives.asymmetric import rsa, padding\n",
        "from cryptography.hazmat.primitives import hashes, serialization\n",
        "\n",
        "# Generate RSA keys\n",
        "private_key = rsa.generate_private_key(public_exponent=65537, key_size=2048)\n",
        "public_key = private_key.public_key()\n",
        "\n",
        "# Encrypt message\n",
        "def encrypt_rsa(public_key, message):\n",
        "    return public_key.encrypt(\n",
        "        message.encode(),\n",
        "        padding.OAEP(mgf=padding.MGF1(algorithm=hashes.SHA256()), algorithm=hashes.SHA256(), label=None)\n",
        "    )\n",
        "\n",
        "# Decrypt message\n",
        "def decrypt_rsa(private_key, encrypted_message):\n",
        "    return private_key.decrypt(\n",
        "        encrypted_message,\n",
        "        padding.OAEP(mgf=padding.MGF1(algorithm=hashes.SHA256()), algorithm=hashes.SHA256(), label=None)\n",
        "    ).decode()\n",
        "\n",
        "# Demo\n",
        "msg = \"Hello RSA\"\n",
        "encrypted = encrypt_rsa(public_key, msg)\n",
        "print(\"Encrypted:\", encrypted)\n",
        "\n",
        "decrypted = decrypt_rsa(private_key, encrypted)\n",
        "print(\"Decrypted:\", decrypted)"
      ],
      "metadata": {
        "colab": {
          "base_uri": "https://localhost:8080/"
        },
        "id": "6mlM0-5QYma1",
        "outputId": "da1f6837-5f47-45ee-b345-fbd2ee520f25"
      },
      "execution_count": 5,
      "outputs": [
        {
          "output_type": "stream",
          "name": "stdout",
          "text": [
            "Requirement already satisfied: cryptography in /usr/local/lib/python3.11/dist-packages (43.0.3)\n",
            "Requirement already satisfied: cffi>=1.12 in /usr/local/lib/python3.11/dist-packages (from cryptography) (1.17.1)\n",
            "Requirement already satisfied: pycparser in /usr/local/lib/python3.11/dist-packages (from cffi>=1.12->cryptography) (2.22)\n",
            "Encrypted: b'lop\\xbem\\xe8\\xc8\\xe4O\\xdbU\\xb0\\xd1\\xdc\\xc7\\xba\\x903\\xa8)\\x88\\xd1\\x8d\\x05:\\xa7 R\\x16\\xbdb\\x98\\xcd\\x9c\\xea\\xf6\\xa5\\xbeH\\xd8\\xcc\\x1a\\xc8\\xc5\\x14>H\\xe4@\\x1a\\x89J\\x0cJ~\\xdf\\xbd\\xce\\xdd<\\xc0\\x0c\\xeb\\xc0\\xb2\\x9ei\\xe1\\xaa\\x9cj\\x91J\\x94\\x18k\\xff\\xd3\\x82\\xdb(\\x91~\\xa7\\x02\\xa1\\x10\\xf4\\x86\\xb61\\x18\\xed\\xfe\\x03\\\\h\\xbf\\x93\\xc3\\x8e\\x9c\\x1c\\xa2\\xb6|Yq\\xd4\\xf5\\xa9\\xe7O\\xa7\\xacP\\x82\\x88n4\\xa2\\xf9\\x01xa\\xc0\\x90\\x8f\\xf5\\xf1zdT\\xed\\xed\\x880\\xca\\x8f;\\x12\\x1a\\x00\\xfb&8]\\x81\\xcf\\xbdQXK\\xb6Yx\\x81\\x87\\xb8s\\xaf\\xfc\\xb8\\x01\\x00\\x82\\'tqv\\x8c&n\\xdc\\x95\\xa0\\xb8\\x94\\xe0\\xc3R&c?c\\x85;\\x08:\\x1f3\"\\x8e\\xdc\\xb4a\\x98!\\xb6\\xd1\\xd6\\nz\\xbeI\\x89\\xebsiy\\xbe\\x9a9;\\x96\\xfc<\\x83%\\xe0\\x14:9\\x90u\\xce\\xd1\\x91\\xf5\\xa1\\x04\\x12jo\\xae3B\\xd2>\\x80\\x9e\\x02\\x86\\xc5I\\x1bX?6O\\xb16\\x93\\x93\\x9cu'\n",
            "Decrypted: Hello RSA\n"
          ]
        }
      ]
    },
    {
      "cell_type": "markdown",
      "source": [
        "# **Cyber 5 - Play Cifer**"
      ],
      "metadata": {
        "id": "lyObLV_DYnKd"
      }
    },
    {
      "cell_type": "code",
      "source": [
        "def generate_key_square(key):\n",
        "    key = key.upper().replace(\"J\", \"I\")\n",
        "    result = []\n",
        "    for c in key:\n",
        "        if c not in result and c.isalpha():\n",
        "            result.append(c)\n",
        "    for c in \"ABCDEFGHIKLMNOPQRSTUVWXYZ\":\n",
        "        if c not in result:\n",
        "            result.append(c)\n",
        "    return [result[i:i+5] for i in range(0, 25, 5)]\n",
        "\n",
        "def find_position(char, key_square):\n",
        "    for i in range(5):\n",
        "        for j in range(5):\n",
        "            if key_square[i][j] == char:\n",
        "                return i, j\n",
        "    return None, None\n",
        "\n",
        "def prepare_text(text):\n",
        "    text = text.upper().replace(\"J\", \"I\")\n",
        "    text = ''.join(filter(str.isalpha, text))\n",
        "    result = ''\n",
        "    i = 0\n",
        "    while i < len(text):\n",
        "        a = text[i]\n",
        "        b = text[i+1] if i+1 < len(text) else 'X'\n",
        "        if a == b:\n",
        "            result += a + 'X'\n",
        "            i += 1\n",
        "        else:\n",
        "            result += a + b\n",
        "            i += 2\n",
        "    if len(result) % 2 != 0:\n",
        "        result += 'X'\n",
        "    return result\n",
        "\n",
        "def encrypt_playfair(key, plaintext):\n",
        "    key_square = generate_key_square(key)\n",
        "    plaintext = prepare_text(plaintext)\n",
        "    ciphertext = ''\n",
        "\n",
        "    for i in range(0, len(plaintext), 2):\n",
        "        a, b = plaintext[i], plaintext[i+1]\n",
        "        row1, col1 = find_position(a, key_square)\n",
        "        row2, col2 = find_position(b, key_square)\n",
        "\n",
        "        if row1 == row2:\n",
        "            ciphertext += key_square[row1][(col1+1)%5]\n",
        "            ciphertext += key_square[row2][(col2+1)%5]\n",
        "        elif col1 == col2:\n",
        "            ciphertext += key_square[(row1+1)%5][col1]\n",
        "            ciphertext += key_square[(row2+1)%5][col2]\n",
        "        else:\n",
        "            ciphertext += key_square[row1][col2]\n",
        "            ciphertext += key_square[row2][col1]\n",
        "    return ciphertext\n",
        "\n",
        "def decrypt_playfair(key, ciphertext):\n",
        "    key_square = generate_key_square(key)\n",
        "    plaintext = ''\n",
        "\n",
        "    for i in range(0, len(ciphertext), 2):\n",
        "        a, b = ciphertext[i], ciphertext[i+1]\n",
        "        row1, col1 = find_position(a, key_square)\n",
        "        row2, col2 = find_position(b, key_square)\n",
        "\n",
        "        if row1 == row2:\n",
        "            plaintext += key_square[row1][(col1-1)%5]\n",
        "            plaintext += key_square[row2][(col2-1)%5]\n",
        "        elif col1 == col2:\n",
        "            plaintext += key_square[(row1-1)%5][col1]\n",
        "            plaintext += key_square[(row2-1)%5][col2]\n",
        "        else:\n",
        "            plaintext += key_square[row1][col2]\n",
        "            plaintext += key_square[row2][col1]\n",
        "    return plaintext\n",
        "\n",
        "# Demo\n",
        "key = \"SECRETKEY\"\n",
        "text = \"HELLO WORLD\"\n",
        "encrypted = encrypt_playfair(key, text)\n",
        "decrypted = decrypt_playfair(key, encrypted)\n",
        "\n",
        "print(\"Encrypted (Playfair):\", encrypted)\n",
        "print(\"Decrypted (Playfair):\", decrypted)"
      ],
      "metadata": {
        "colab": {
          "base_uri": "https://localhost:8080/"
        },
        "id": "vFF9NAckYrVe",
        "outputId": "874da62c-1549-46a9-bbef-8b63bbeb1fba"
      },
      "execution_count": 6,
      "outputs": [
        {
          "output_type": "stream",
          "name": "stdout",
          "text": [
            "Encrypted (Playfair): GCIZHQCWTIBZ\n",
            "Decrypted (Playfair): HELXLOWORLDX\n"
          ]
        }
      ]
    }
  ]
}